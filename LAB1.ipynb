{
  "nbformat": 4,
  "nbformat_minor": 0,
  "metadata": {
    "colab": {
      "provenance": [],
      "authorship_tag": "ABX9TyNbySvC/tvJAFRhRFPO+s+U",
      "include_colab_link": true
    },
    "kernelspec": {
      "name": "python3",
      "display_name": "Python 3"
    },
    "language_info": {
      "name": "python"
    }
  },
  "cells": [
    {
      "cell_type": "markdown",
      "metadata": {
        "id": "view-in-github",
        "colab_type": "text"
      },
      "source": [
        "<a href=\"https://colab.research.google.com/github/ssingh121/Python-Lab/blob/main/LAB1.ipynb\" target=\"_parent\"><img src=\"https://colab.research.google.com/assets/colab-badge.svg\" alt=\"Open In Colab\"/></a>"
      ]
    },
    {
      "cell_type": "code",
      "execution_count": null,
      "metadata": {
        "colab": {
          "base_uri": "https://localhost:8080/"
        },
        "id": "KY9pAvqr6_C2",
        "outputId": "a13dc9d8-f7c3-4ade-b7d0-a09bd260bf33"
      },
      "outputs": [
        {
          "output_type": "stream",
          "name": "stdout",
          "text": [
            "-----CV------\n",
            "Name : Sanjeev Kumar Singh\n",
            "Email: sanjeevsinghkaushik662@gmail.com\n",
            "Phone Number: 9506009121\n",
            "Address : Mithwar Phephna Ballia\n",
            "SKILLS:\" ['Python', 'Java', 'HTML/CSS', 'JavaScript', 'SQL', 'Git']\n"
          ]
        }
      ],
      "source": [
        "print(\"-----CV------\")\n",
        "\n",
        "name =\"Sanjeev Kumar Singh\"\n",
        "email = \"sanjeevsinghkaushik662@gmail.com\"\n",
        "phoneNo = \"9506009121\"\n",
        "address = \"Mithwar Phephna Ballia\"\n",
        "\n",
        "skills = [\"Python\", \"Java\", \"HTML/CSS\", \"JavaScript\", \"SQL\", \"Git\"]\n",
        "\n",
        "print('Name :', name)\n",
        "print('Email:' , email)\n",
        "print('Phone Number:' , phoneNo)\n",
        "print('Address :' , address)\n",
        "print('SKILLS:\"',skills)"
      ]
    },
    {
      "cell_type": "code",
      "source": [
        "from collections import Counter\n",
        "\n",
        "def count_word_frequency(sentence):\n",
        "    words = sentence.split()\n",
        "    word_frequency = Counter(words)\n",
        "    return word_frequency\n",
        "\n",
        "input_sentence = input(\"Enter a sentence: \")\n",
        "word_frequency = count_word_frequency(input_sentence)\n",
        "\n",
        "print(\"Word frequencies:\")\n",
        "for word, frequency in word_frequency.items():\n",
        "    print(f\"{word}: {frequency}\")"
      ],
      "metadata": {
        "colab": {
          "base_uri": "https://localhost:8080/"
        },
        "id": "kQWLY4S97er2",
        "outputId": "a23a202d-69b0-4391-c753-64cbde1dd6b9"
      },
      "execution_count": null,
      "outputs": [
        {
          "output_type": "stream",
          "name": "stdout",
          "text": [
            "Enter a sentence: hi ritesh bhai rana rana \n",
            "Word frequencies:\n",
            "hi: 1\n",
            "ritesh: 1\n",
            "bhai: 1\n",
            "rana: 2\n"
          ]
        }
      ]
    },
    {
      "cell_type": "code",
      "source": [
        "def is_leap_year(year):\n",
        "    if year % 4 == 0:\n",
        "        if year % 100 == 0:\n",
        "            if year % 400 == 0:\n",
        "                return True\n",
        "            else:\n",
        "                return False\n",
        "        else:\n",
        "            return True\n",
        "    else:\n",
        "        return False\n",
        "\n",
        "# Test the function\n",
        "year = int(input(\"Enter a year: \"))\n",
        "if is_leap_year(year):\n",
        "    print(f\"{year} is a leap year.\")\n",
        "else:\n",
        "    print(f\"{year} is not a leap year.\")\n"
      ],
      "metadata": {
        "colab": {
          "base_uri": "https://localhost:8080/"
        },
        "id": "YloM7cul9L-L",
        "outputId": "eacad1d6-6ab0-4755-ea53-59a4a03410f0"
      },
      "execution_count": null,
      "outputs": [
        {
          "output_type": "stream",
          "name": "stdout",
          "text": [
            "Enter a year: 2000\n",
            "2000 is a leap year.\n"
          ]
        }
      ]
    },
    {
      "cell_type": "code",
      "source": [
        "def get_season(month):\n",
        "    if month in [12, 1, 2]:\n",
        "        return \"winter\"\n",
        "    elif month in [3, 4, 5]:\n",
        "        return \"spring\"\n",
        "    elif month in [6, 7, 8]:\n",
        "        return \"summer\"\n",
        "    else:\n",
        "        return \"autumn\"\n",
        "\n",
        "month = int(input(\"Enter a month (1...12): \"))\n",
        "season = get_season(month)\n",
        "print(f\"The season is {season}\")"
      ],
      "metadata": {
        "colab": {
          "base_uri": "https://localhost:8080/"
        },
        "id": "Tdam6Uwi_Wl0",
        "outputId": "db5f2f83-da16-40b3-d219-f1c78f355c0c"
      },
      "execution_count": null,
      "outputs": [
        {
          "output_type": "stream",
          "name": "stdout",
          "text": [
            "Enter a month (1...12): 8\n",
            "The season is summer\n"
          ]
        }
      ]
    }
  ]
}