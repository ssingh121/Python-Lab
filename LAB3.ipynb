{
  "nbformat": 4,
  "nbformat_minor": 0,
  "metadata": {
    "colab": {
      "provenance": [],
      "authorship_tag": "ABX9TyPE2hLXPkj3RuZicUE5nD5n",
      "include_colab_link": true
    },
    "kernelspec": {
      "name": "python3",
      "display_name": "Python 3"
    },
    "language_info": {
      "name": "python"
    }
  },
  "cells": [
    {
      "cell_type": "markdown",
      "metadata": {
        "id": "view-in-github",
        "colab_type": "text"
      },
      "source": [
        "<a href=\"https://colab.research.google.com/github/ssingh121/Python-Lab/blob/main/LAB3.ipynb\" target=\"_parent\"><img src=\"https://colab.research.google.com/assets/colab-badge.svg\" alt=\"Open In Colab\"/></a>"
      ]
    },
    {
      "cell_type": "code",
      "execution_count": null,
      "metadata": {
        "id": "vnOlrQCIfzLW"
      },
      "outputs": [],
      "source": [
        "import numpy as np"
      ]
    },
    {
      "cell_type": "code",
      "source": [
        "# Create an array of shape (2, 3, 4) of zeros\n",
        "zeros_array = np.zeros((2, 1, 1))\n",
        "print(\"Zeros Array:\")\n",
        "print(zeros_array)"
      ],
      "metadata": {
        "colab": {
          "base_uri": "https://localhost:8080/"
        },
        "id": "Yv-S7e4vf_yM",
        "outputId": "87f38fe0-d4f8-4208-ec65-ab2c410c5f72"
      },
      "execution_count": null,
      "outputs": [
        {
          "output_type": "stream",
          "name": "stdout",
          "text": [
            "Zeros Array:\n",
            "[[[0.]]\n",
            "\n",
            " [[0.]]]\n"
          ]
        }
      ]
    },
    {
      "cell_type": "code",
      "source": [
        "# Create an array of shape (2, 3, 4) of ones\n",
        "ones_array = np.ones((2, 3, 4))\n",
        "print(\"Ones Array:\")\n",
        "print(ones_array)"
      ],
      "metadata": {
        "colab": {
          "base_uri": "https://localhost:8080/"
        },
        "id": "C0d_QC0Pg6sD",
        "outputId": "b2280168-8967-48ec-ab2e-ed6ca563fa57"
      },
      "execution_count": null,
      "outputs": [
        {
          "output_type": "stream",
          "name": "stdout",
          "text": [
            "Ones Array:\n",
            "[[[1. 1. 1. 1.]\n",
            "  [1. 1. 1. 1.]\n",
            "  [1. 1. 1. 1.]]\n",
            "\n",
            " [[1. 1. 1. 1.]\n",
            "  [1. 1. 1. 1.]\n",
            "  [1. 1. 1. 1.]]]\n"
          ]
        }
      ]
    },
    {
      "cell_type": "code",
      "source": [
        "# Create an array with values 0 to 999 using the \"np.arange\" function\n",
        "arr_0_to_999 = np.arange(1000)\n",
        "print(\"Array from 0 to 999:\")\n",
        "print(arr_0_to_999)"
      ],
      "metadata": {
        "colab": {
          "base_uri": "https://localhost:8080/"
        },
        "id": "MOEWofrHhlNw",
        "outputId": "9709059c-5bd3-40fe-8c72-736a21c3fedf"
      },
      "execution_count": null,
      "outputs": [
        {
          "output_type": "stream",
          "name": "stdout",
          "text": [
            "Array from 0 to 999:\n",
            "[  0   1   2   3   4   5   6   7   8   9  10  11  12  13  14  15  16  17\n",
            "  18  19  20  21  22  23  24  25  26  27  28  29  30  31  32  33  34  35\n",
            "  36  37  38  39  40  41  42  43  44  45  46  47  48  49  50  51  52  53\n",
            "  54  55  56  57  58  59  60  61  62  63  64  65  66  67  68  69  70  71\n",
            "  72  73  74  75  76  77  78  79  80  81  82  83  84  85  86  87  88  89\n",
            "  90  91  92  93  94  95  96  97  98  99 100 101 102 103 104 105 106 107\n",
            " 108 109 110 111 112 113 114 115 116 117 118 119 120 121 122 123 124 125\n",
            " 126 127 128 129 130 131 132 133 134 135 136 137 138 139 140 141 142 143\n",
            " 144 145 146 147 148 149 150 151 152 153 154 155 156 157 158 159 160 161\n",
            " 162 163 164 165 166 167 168 169 170 171 172 173 174 175 176 177 178 179\n",
            " 180 181 182 183 184 185 186 187 188 189 190 191 192 193 194 195 196 197\n",
            " 198 199 200 201 202 203 204 205 206 207 208 209 210 211 212 213 214 215\n",
            " 216 217 218 219 220 221 222 223 224 225 226 227 228 229 230 231 232 233\n",
            " 234 235 236 237 238 239 240 241 242 243 244 245 246 247 248 249 250 251\n",
            " 252 253 254 255 256 257 258 259 260 261 262 263 264 265 266 267 268 269\n",
            " 270 271 272 273 274 275 276 277 278 279 280 281 282 283 284 285 286 287\n",
            " 288 289 290 291 292 293 294 295 296 297 298 299 300 301 302 303 304 305\n",
            " 306 307 308 309 310 311 312 313 314 315 316 317 318 319 320 321 322 323\n",
            " 324 325 326 327 328 329 330 331 332 333 334 335 336 337 338 339 340 341\n",
            " 342 343 344 345 346 347 348 349 350 351 352 353 354 355 356 357 358 359\n",
            " 360 361 362 363 364 365 366 367 368 369 370 371 372 373 374 375 376 377\n",
            " 378 379 380 381 382 383 384 385 386 387 388 389 390 391 392 393 394 395\n",
            " 396 397 398 399 400 401 402 403 404 405 406 407 408 409 410 411 412 413\n",
            " 414 415 416 417 418 419 420 421 422 423 424 425 426 427 428 429 430 431\n",
            " 432 433 434 435 436 437 438 439 440 441 442 443 444 445 446 447 448 449\n",
            " 450 451 452 453 454 455 456 457 458 459 460 461 462 463 464 465 466 467\n",
            " 468 469 470 471 472 473 474 475 476 477 478 479 480 481 482 483 484 485\n",
            " 486 487 488 489 490 491 492 493 494 495 496 497 498 499 500 501 502 503\n",
            " 504 505 506 507 508 509 510 511 512 513 514 515 516 517 518 519 520 521\n",
            " 522 523 524 525 526 527 528 529 530 531 532 533 534 535 536 537 538 539\n",
            " 540 541 542 543 544 545 546 547 548 549 550 551 552 553 554 555 556 557\n",
            " 558 559 560 561 562 563 564 565 566 567 568 569 570 571 572 573 574 575\n",
            " 576 577 578 579 580 581 582 583 584 585 586 587 588 589 590 591 592 593\n",
            " 594 595 596 597 598 599 600 601 602 603 604 605 606 607 608 609 610 611\n",
            " 612 613 614 615 616 617 618 619 620 621 622 623 624 625 626 627 628 629\n",
            " 630 631 632 633 634 635 636 637 638 639 640 641 642 643 644 645 646 647\n",
            " 648 649 650 651 652 653 654 655 656 657 658 659 660 661 662 663 664 665\n",
            " 666 667 668 669 670 671 672 673 674 675 676 677 678 679 680 681 682 683\n",
            " 684 685 686 687 688 689 690 691 692 693 694 695 696 697 698 699 700 701\n",
            " 702 703 704 705 706 707 708 709 710 711 712 713 714 715 716 717 718 719\n",
            " 720 721 722 723 724 725 726 727 728 729 730 731 732 733 734 735 736 737\n",
            " 738 739 740 741 742 743 744 745 746 747 748 749 750 751 752 753 754 755\n",
            " 756 757 758 759 760 761 762 763 764 765 766 767 768 769 770 771 772 773\n",
            " 774 775 776 777 778 779 780 781 782 783 784 785 786 787 788 789 790 791\n",
            " 792 793 794 795 796 797 798 799 800 801 802 803 804 805 806 807 808 809\n",
            " 810 811 812 813 814 815 816 817 818 819 820 821 822 823 824 825 826 827\n",
            " 828 829 830 831 832 833 834 835 836 837 838 839 840 841 842 843 844 845\n",
            " 846 847 848 849 850 851 852 853 854 855 856 857 858 859 860 861 862 863\n",
            " 864 865 866 867 868 869 870 871 872 873 874 875 876 877 878 879 880 881\n",
            " 882 883 884 885 886 887 888 889 890 891 892 893 894 895 896 897 898 899\n",
            " 900 901 902 903 904 905 906 907 908 909 910 911 912 913 914 915 916 917\n",
            " 918 919 920 921 922 923 924 925 926 927 928 929 930 931 932 933 934 935\n",
            " 936 937 938 939 940 941 942 943 944 945 946 947 948 949 950 951 952 953\n",
            " 954 955 956 957 958 959 960 961 962 963 964 965 966 967 968 969 970 971\n",
            " 972 973 974 975 976 977 978 979 980 981 982 983 984 985 986 987 988 989\n",
            " 990 991 992 993 994 995 996 997 998 999]\n"
          ]
        }
      ]
    },
    {
      "cell_type": "code",
      "source": [
        "# Create an array from the list [2, 3.2, 5.5, -6.4, -2.2, 2.4] and assign it to the variable \"a\"\n",
        "a = np.array([2, 3.2, 5.5, -6.4, -2.2, 2.4])\n",
        "print(\"Array 'a':\", a)\n",
        "print(\"a[1] =\", a[1])  # Print a[1]\n",
        "print(\"a[1:4] =\", a[1:4])  # Print a[1:4]"
      ],
      "metadata": {
        "colab": {
          "base_uri": "https://localhost:8080/"
        },
        "id": "D4p1fIo3hsJv",
        "outputId": "d6f849fd-1847-4e66-e024-3def54153d01"
      },
      "execution_count": null,
      "outputs": [
        {
          "output_type": "stream",
          "name": "stdout",
          "text": [
            "Array 'a': [ 2.   3.2  5.5 -6.4 -2.2  2.4]\n",
            "a[1] = 3.2\n",
            "a[1:4] = [ 3.2  5.5 -6.4]\n"
          ]
        }
      ]
    },
    {
      "cell_type": "code",
      "source": [
        "# Create a 2-D array from the given list and assign it to the variable \"a\"\n",
        "a = np.array([[2, 3.2, 5.5, -6, 4, -2.2, 2.4], [1, 22, 4, 0.1, 5, 3, -9], [3, 1, 2, 1, 21, 1.1, -2]])\n",
        "print(a);"
      ],
      "metadata": {
        "colab": {
          "base_uri": "https://localhost:8080/"
        },
        "id": "Ey3bFodxjlQt",
        "outputId": "680313d0-5aad-4ff7-8aa6-3e314393cb7f"
      },
      "execution_count": null,
      "outputs": [
        {
          "output_type": "stream",
          "name": "stdout",
          "text": [
            "[[ 2.   3.2  5.5 -6.   4.  -2.2  2.4]\n",
            " [ 1.  22.   4.   0.1  5.   3.  -9. ]\n",
            " [ 3.   1.   2.   1.  21.   1.1 -2. ]]\n"
          ]
        }
      ]
    },
    {
      "cell_type": "code",
      "source": [
        "import numpy as np\n",
        "\n",
        "# Create a 2-D array from the given list\n",
        "a = np.array([[2, 3.2, 5.5, -64, -2.2, 2.4],\n",
        "              [1, 22, 4, 0.1, 5.3, -9],\n",
        "              [3, 1, 2, 1, 21, 1.1]])\n",
        "print(\"\\nArray 'a':\\n\", a)\n",
        "\n",
        "# Extract the necessary slices and reshape to make the arrays compatible\n",
        "slice_1 = a[1:4, 0:4]\n",
        "slice_2 = a[1:, 2].reshape(-1, 1)  # Reshape to match the dimensions for broadcasting\n",
        "\n",
        "# Perform element-wise multiplication\n",
        "result = slice_1 * slice_2\n",
        "\n",
        "# Check if slices are equal\n",
        "print(\"Slices are equal:\", np.array_equal(a[:, 3], result.flatten()))\n"
      ],
      "metadata": {
        "colab": {
          "base_uri": "https://localhost:8080/"
        },
        "id": "k70DbSjIs8L_",
        "outputId": "92ec87bd-6431-4b68-f93b-f63238368a1b"
      },
      "execution_count": null,
      "outputs": [
        {
          "output_type": "stream",
          "name": "stdout",
          "text": [
            "\n",
            "Array 'a':\n",
            " [[  2.    3.2   5.5 -64.   -2.2   2.4]\n",
            " [  1.   22.    4.    0.1   5.3  -9. ]\n",
            " [  3.    1.    2.    1.   21.    1.1]]\n",
            "Slices are equal: False\n"
          ]
        }
      ]
    },
    {
      "cell_type": "code",
      "source": [
        "# Create a 2-D array of shape (2, 4) containing two lists and assign it to the variable \"arr\"\n",
        "arr = np.array([list(range(4)), list(range(10, 14))])\n",
        "print(\"2-D Array 'arr':\\n\", arr)\n",
        "print(\"Shape of arr:\", arr.shape)  # Print shape of arr\n",
        "print(\"Size of arr:\", arr.size)  # Print size of arr\n",
        "print(\"Maximum of arr:\", np.max(arr))  # Print maximum of arr\n",
        "print(\"Minimum of arr:\", np.min(arr))  # Print minimum of arr"
      ],
      "metadata": {
        "colab": {
          "base_uri": "https://localhost:8080/"
        },
        "id": "8qMcYhJexwPs",
        "outputId": "5846333e-36c1-46a9-cc06-ab81983a5391"
      },
      "execution_count": null,
      "outputs": [
        {
          "output_type": "stream",
          "name": "stdout",
          "text": [
            "2-D Array 'arr':\n",
            " [[ 0  1  2  3]\n",
            " [10 11 12 13]]\n",
            "Shape of arr: (2, 4)\n",
            "Size of arr: 8\n",
            "Maximum of arr: 13\n",
            "Minimum of arr: 0\n"
          ]
        }
      ]
    },
    {
      "cell_type": "code",
      "source": [
        "# Continue using array \"arr\" as defined above\n",
        "print(\"Reshaped arr to (2, 2, 2):\\n\", arr.reshape(2, 2, 2))  # Print re-shaped array to (2, 2, 2)\n",
        "print(\"Transposed arr:\\n\", arr.T)  # Print transposed array\n",
        "print(\"Flattened arr:\", arr.flatten())  # Print flattened array\n",
        "print(\"Array converted to floats:\\n\", arr.astype(float))  # Print array converted to floats"
      ],
      "metadata": {
        "colab": {
          "base_uri": "https://localhost:8080/"
        },
        "id": "ptOU2Jxux-py",
        "outputId": "1ba4a828-a104-4419-b4ef-97fea2ea550b"
      },
      "execution_count": null,
      "outputs": [
        {
          "output_type": "stream",
          "name": "stdout",
          "text": [
            "Reshaped arr to (2, 2, 2):\n",
            " [[[ 0  1]\n",
            "  [ 2  3]]\n",
            "\n",
            " [[10 11]\n",
            "  [12 13]]]\n",
            "Transposed arr:\n",
            " [[ 0 10]\n",
            " [ 1 11]\n",
            " [ 2 12]\n",
            " [ 3 13]]\n",
            "Flattened arr: [ 0  1  2  3 10 11 12 13]\n",
            "Array converted to floats:\n",
            " [[ 0.  1.  2.  3.]\n",
            " [10. 11. 12. 13.]]\n"
          ]
        }
      ]
    },
    {
      "cell_type": "code",
      "source": [
        "# Create an array counting from 1 to 20 inclusive\n",
        "counting_array = np.arange(1, 21)\n",
        "print(\"Array counting from 1 to 20 inclusive:\", counting_array)"
      ],
      "metadata": {
        "colab": {
          "base_uri": "https://localhost:8080/"
        },
        "id": "KjJxaMriyaZq",
        "outputId": "441bab24-e737-4a54-f537-da4478116460"
      },
      "execution_count": null,
      "outputs": [
        {
          "output_type": "stream",
          "name": "stdout",
          "text": [
            "Array counting from 1 to 20 inclusive: [ 1  2  3  4  5  6  7  8  9 10 11 12 13 14 15 16 17 18 19 20]\n"
          ]
        }
      ]
    },
    {
      "cell_type": "code",
      "source": [
        "# Array of multiples of 3 greater than 0 and less than 30\n",
        "multiples_of_3 = np.arange(3, 30, 3)\n",
        "print(\"Array of multiples of 3:\", multiples_of_3)"
      ],
      "metadata": {
        "colab": {
          "base_uri": "https://localhost:8080/"
        },
        "id": "BmUEQ37VyhbP",
        "outputId": "4b5eb536-0be0-4729-9ef4-cba9548ef819"
      },
      "execution_count": null,
      "outputs": [
        {
          "output_type": "stream",
          "name": "stdout",
          "text": [
            "Array of multiples of 3: [ 3  6  9 12 15 18 21 24 27]\n"
          ]
        }
      ]
    },
    {
      "cell_type": "code",
      "source": [
        "# Array of 8 equally spaced floats x where 0 <= x <= 1\n",
        "equally_spaced_floats = np.linspace(0, 1, 8)\n",
        "print(\"Array of 8 equally spaced floats:\", equally_spaced_floats)"
      ],
      "metadata": {
        "colab": {
          "base_uri": "https://localhost:8080/"
        },
        "id": "BSSrMVDeyxFf",
        "outputId": "09f7012b-d858-48e5-8026-e042c24f0a2b"
      },
      "execution_count": null,
      "outputs": [
        {
          "output_type": "stream",
          "name": "stdout",
          "text": [
            "Array of 8 equally spaced floats: [0.         0.14285714 0.28571429 0.42857143 0.57142857 0.71428571\n",
            " 0.85714286 1.        ]\n"
          ]
        }
      ]
    },
    {
      "cell_type": "code",
      "source": [
        "# Use np.arange and reshape to create the array A\n",
        "A = np.arange(1, 9).reshape(2, 4)\n",
        "print(\"Array A:\\n\", A)"
      ],
      "metadata": {
        "colab": {
          "base_uri": "https://localhost:8080/"
        },
        "id": "Fd0F_tjjy9G5",
        "outputId": "51bbf3e2-4e5c-4179-d3e5-4f80be3ec2a3"
      },
      "execution_count": null,
      "outputs": [
        {
          "output_type": "stream",
          "name": "stdout",
          "text": [
            "Array A:\n",
            " [[1 2 3 4]\n",
            " [5 6 7 8]]\n"
          ]
        }
      ]
    },
    {
      "cell_type": "code",
      "source": [
        "# Use np.array to create the array B\n",
        "B = np.array([1, 2])\n",
        "print(\"Array B:\", B)"
      ],
      "metadata": {
        "colab": {
          "base_uri": "https://localhost:8080/"
        },
        "id": "LNHR14bazLRo",
        "outputId": "e824495a-19a3-4193-a934-570dcd82a902"
      },
      "execution_count": null,
      "outputs": [
        {
          "output_type": "stream",
          "name": "stdout",
          "text": [
            "Array B: [1 2]\n"
          ]
        }
      ]
    },
    {
      "cell_type": "code",
      "source": [
        "import numpy as np\n",
        "\n",
        "# Create array A using np.arange and reshape\n",
        "A = np.arange(1, 9).reshape(2, 4)\n",
        "print(\"Array A:\\n\", A)\n",
        "\n",
        "# Create array B using np.array\n",
        "B = np.array([1, 2])\n",
        "print(\"Array B:\", B)\n",
        "\n",
        "# Use broadcasting to add B to A to create the final array A + B\n",
        "final_array = A + B.reshape(-1, 1)  # Reshape B to (2, 1) to match the shape of A\n",
        "print(\"A + B =\", final_array)\n"
      ],
      "metadata": {
        "colab": {
          "base_uri": "https://localhost:8080/"
        },
        "id": "tjeoYKYszpHq",
        "outputId": "4e26db12-9665-4957-ec5b-db6720aa98ab"
      },
      "execution_count": null,
      "outputs": [
        {
          "output_type": "stream",
          "name": "stdout",
          "text": [
            "Array A:\n",
            " [[1 2 3 4]\n",
            " [5 6 7 8]]\n",
            "Array B: [1 2]\n",
            "A + B = [[ 2  3  4  5]\n",
            " [ 7  8  9 10]]\n"
          ]
        }
      ]
    }
  ]
}